{
 "cells": [
  {
   "cell_type": "markdown",
   "metadata": {},
   "source": [
    "# 1\n",
    "\n",
    "შექმენით ფუნქცია რომელიც იღებს არგუმენტად მოგებებს (wins), ფრეს (draws) და წაგებებს (losses).\n",
    "ფუნქციამ უნდა დაითვალოს ქულების ოდენობა, რომელიც ფეხბურთის გუნდმა დააგროვა.\n",
    "\n",
    "* მოგება - 3 ქულა\n",
    "* ფრე -  1 ქულა\n",
    "* წაგება - 0 ქულა\n",
    "\n",
    "** შეყვანილი რიცხვები იქნება 0 ის ტოლი ან მეტი რიცხვები (არ იქნება უარყოფითი რიცხვები)\n",
    "\n",
    "მაგალითი:\n",
    "\n",
    "football_points(3, 4, 2) ➞ 13\n",
    "\n",
    "football_points(5, 0, 2) ➞ 15\n",
    "\n",
    "football_points(0, 0, 1) ➞ 0\n"
   ]
  },
  {
   "cell_type": "code",
   "execution_count": 3,
   "metadata": {},
   "outputs": [
    {
     "data": {
      "text/plain": [
       "0"
      ]
     },
     "execution_count": 3,
     "metadata": {},
     "output_type": "execute_result"
    }
   ],
   "source": [
    "#__start__\n",
    "\n",
    "\n",
    "\n",
    "\n",
    "\n",
    "#__end__"
   ]
  },
  {
   "cell_type": "markdown",
   "metadata": {},
   "source": [
    "# 2\n",
    "შექმენით ფუნქცია,რომელიც მიიღებს ინტეჯერს და დააბრუნებს (True) თუ 100 ზე  იყოფა სხვა შემთხვევაში ფუნქციამ დააბრუნოს (False)\n",
    "\n",
    "* არ დაგავიწყდეს შედეგის დაბრუნება  (return)\n",
    "* თუ გაიჭედე და ვერ აკეთებ, დაიხმარე python_lectures ან დამატებითი რესურსები\n",
    "\n",
    "\n",
    "მაგალითი:\n",
    "\n",
    "divisible(1) ➞ False\n",
    "\n",
    "divisible(1000) ➞ True\n",
    "\n",
    "divisible(100) ➞ True"
   ]
  },
  {
   "cell_type": "code",
   "execution_count": 5,
   "metadata": {},
   "outputs": [
    {
     "name": "stdout",
     "output_type": "stream",
     "text": [
      "True\n"
     ]
    }
   ],
   "source": [
    "#__start__\n",
    "\n",
    "\n",
    "#__end__\n"
   ]
  },
  {
   "cell_type": "markdown",
   "metadata": {},
   "source": [
    "# 3 \n",
    "შექმენით ფუნქცია, რომელიც  მოაგვარებს მარტივ მათიმატიკურ ამოცანას. შეყვანილი არგუმენტი იქნება სტრინგის ფორმის და ექნება ტექსტს მათემატიკური კალკულაციის სახე.\n",
    "\n",
    "* არ იქნება ბრჭყალები სტრინგეში\n",
    "* არ იქნება ისეთი კალკულაცია როგორიცაა ( sin, cos, in ... )\n",
    "* არ არის სტრინგში სფეისები \" \" (არ არის წყვეტა)\n",
    "* თუ გაიჭედე და ვერ აკეთებ, დაიხმარე python_lectures ან დამატებითი რესურსები\n",
    "\n",
    "მაგალითი:\n",
    "\n",
    "calculator(\"23+4\") ➞ 27\n",
    "\n",
    "calculator(\"45-15\") ➞ 30\n",
    "\n",
    "calculator(\"13+2-5*2\") ➞ 5\n",
    "\n",
    "calculator(\"49/7*2-3\") ➞ 11"
   ]
  },
  {
   "cell_type": "code",
   "execution_count": 8,
   "metadata": {},
   "outputs": [
    {
     "name": "stdout",
     "output_type": "stream",
     "text": [
      "27\n"
     ]
    }
   ],
   "source": [
    "#__start__\n",
    "\n",
    "\n",
    "#__end__\n"
   ]
  },
  {
   "cell_type": "markdown",
   "metadata": {},
   "source": [
    "# 4\n",
    "გამოასწორე მოცემული კოდი, რომელიც აბრუნებს True თუ x \n",
    "7 ის ტოლია. ეცადე კოდი წაიკითხო ქვევიდან ზევით და ისე გამოასწორო ხარვეზი (bug).\n",
    "* წაიკითხე ყურადღებით მოცემულობა\n",
    "* არ იფიქრო ბევრი, არ უნდა იყოს რთულად დაწერილი\n",
    "\n",
    "მაგალითი:\n",
    "\n",
    "is_seven(4) ➞ False\n",
    "\n",
    "is_seven(9) ➞ False\n",
    "\n",
    "is_seven(7) ➞ True"
   ]
  },
  {
   "cell_type": "code",
   "execution_count": 10,
   "metadata": {},
   "outputs": [
    {
     "name": "stdout",
     "output_type": "stream",
     "text": [
      "True\n"
     ]
    }
   ],
   "source": [
    "#__start__\n",
    "\n",
    "\n",
    "\n",
    "\n",
    "#__end__"
   ]
  },
  {
   "cell_type": "markdown",
   "metadata": {},
   "source": [
    "# 5\n",
    "\n",
    "\n",
    "\tბოლომდე გაავსე!\n",
    "\n",
    "მანქანას სჭირდება 10 ჯერ მეტი საწვავი ვიდრე მანძილზე სადაც მიდის. მას აუცილებლად სჭირდება მინიმუმ 100 ლ საწვავი სანამ წავა სამოგზაუროდ. \n",
    "\n",
    "შექმენი ფუნქცია, რომელიც დაითვლის თუ რამდენი ლიტრი საწვავი სჭირდება მანქანას, მანძილის მიხედვით, რომელსაც ფუნქცია იღებს.\n",
    "\n",
    "\n",
    "* მანძილი იქნება რიცხვი რომელიც  ყოველთვის მეტია 0 ზე\n",
    "* დააბრუნოს 100 თუ დათვლილი საწვავი გამოვა 100 ზე ნაკლები\n",
    "\n",
    "მაგალითი:\n",
    "\n",
    "calculate_fuel(15) ➞ 150\n",
    "\n",
    "calculate_fuel(23.5) ➞ 235\n",
    "\n",
    "calculate_fuel(3) ➞ 100"
   ]
  },
  {
   "cell_type": "code",
   "execution_count": 11,
   "metadata": {},
   "outputs": [
    {
     "name": "stdout",
     "output_type": "stream",
     "text": [
      "150\n"
     ]
    }
   ],
   "source": [
    "#__start__\n",
    "\n",
    "\n",
    "#__end__"
   ]
  },
  {
   "cell_type": "markdown",
   "metadata": {},
   "source": [
    "# 6\n",
    "შექმენით ფუნქცია, რომელიც იღებს არგუმენტად ბულის ტიპის (boolean) ცვლადს (flag) და აბრუნებს მას როგორც სტრინგს\n",
    "\n",
    "* არ დაგავიწყდეს შედეგის დაბრუნება  (return)\n",
    "* თუ გაიჭედე და ვერ აკეთებ, დაიხმარე python_lectures ან დამატებითი რესურსები\n",
    "\n",
    "მაგალითი:\n",
    "\n",
    "\n",
    "bool_to_string(True) ➞ \"True\"\n",
    "\n",
    "bool_to_string(False) ➞ \"False\""
   ]
  },
  {
   "cell_type": "code",
   "execution_count": 12,
   "metadata": {},
   "outputs": [
    {
     "name": "stdout",
     "output_type": "stream",
     "text": [
      "True\n"
     ]
    }
   ],
   "source": [
    "#__start__\n",
    "\n",
    "\n",
    "\n",
    "\n",
    "#__end__"
   ]
  },
  {
   "cell_type": "markdown",
   "metadata": {},
   "source": [
    "# 7\n",
    "დაწერე ფუნქცია, რომელიც იღებს ინტეჯერს და  გადაჰყავს სტრინგში\n",
    "\n",
    "* არ დაგავიწყდეს შედეგის დაბრუნება  (return)\n",
    "* თუ გაიჭედე და ვერ აკეთებ, დაიხმარე python_lectures ან დამატებითი რესურსები\n",
    "\n",
    "\n",
    "მაგალითი:\n",
    "\n",
    "to_str(77) ➞ \"77\"\n",
    "\n",
    "to_str(532) ➞ \"532\""
   ]
  },
  {
   "cell_type": "code",
   "execution_count": 1,
   "metadata": {},
   "outputs": [
    {
     "name": "stdout",
     "output_type": "stream",
     "text": [
      "532\n"
     ]
    }
   ],
   "source": [
    "#__start__\n",
    "\n",
    "\n",
    "\n",
    "#__end__\n"
   ]
  },
  {
   "cell_type": "markdown",
   "metadata": {},
   "source": [
    "# 8\n",
    "\n",
    "დაწერე ფუნქცია, რომელიც იღებს სტრინგს და  გადაჰყავს ინტეჯერში\n",
    "\n",
    "\n",
    "* არ დაგავიწყდეს შედეგის დაბრუნება  (return)\n",
    "* თუ გაიჭედე და ვერ აკეთებ, დაიხმარე python_lectures ან დამატებითი რესურსები\n",
    "\n",
    "მაგალითი:\n",
    "\n",
    "to_int(\"77\") ➞ 77\n",
    "\n",
    "to_int(\"532\") ➞ 532\n"
   ]
  },
  {
   "cell_type": "code",
   "execution_count": 18,
   "metadata": {},
   "outputs": [
    {
     "name": "stdout",
     "output_type": "stream",
     "text": [
      "77\n"
     ]
    }
   ],
   "source": [
    "\n",
    "#__start__\n",
    "\n",
    "\n",
    "#__end__"
   ]
  },
  {
   "cell_type": "markdown",
   "metadata": {},
   "source": [
    "# 9\n",
    "სტუდენტი სწავლობს პითონს და ცდილობს შექმნას ფუნქცია, რომელიც მომხმარებელისგან იღებს შეკვეთებს. მისმა კოდმა უნდა მიიღოს სტრინგი (order_name) და დაემატოს სტრინგი \"?! ok, it will be soon\"\n",
    "\n",
    "* წაიკითხე ყურადღებით მოცემულობა\n",
    "* ყურადღება მიაქციე მოცემულობას და ლოგიკას\n",
    "* არ იფიქრო ბევრი, არ უნდა იყოს რთულად დაწერილი\n",
    "\n",
    "მაგალითი:\n",
    "order(\"Chicken\") ➞ \"Chicken?! ok, it will be soon\"\n",
    "\n",
    "order(\"Juice\") ➞ \"Juice?! ok, it will be soon\"\n",
    "\n",
    "order(\"Wine\") ➞ \"Wine?! ok, it will be soon\""
   ]
  },
  {
   "cell_type": "code",
   "execution_count": 20,
   "metadata": {},
   "outputs": [
    {
     "data": {
      "text/plain": [
       "'Wine?! ok, it will be soon'"
      ]
     },
     "execution_count": 20,
     "metadata": {},
     "output_type": "execute_result"
    }
   ],
   "source": [
    "#__start__\n",
    "\n",
    "#__end__"
   ]
  },
  {
   "cell_type": "markdown",
   "metadata": {},
   "source": [
    "# 10\n",
    "\n",
    "\tნასვამი პითონი \n",
    "\n",
    "დაწერეთ ფუნქცია, რომელიც მიიღებს ინტეჯერს და დააბრუნებს სტრინგს, \n",
    "ასევე, თუ მიიღებს სტრინგს დააბრუნებს ინტეჯერს\n",
    "\n",
    "* რიცხვები იქნება მთელი და 0 ზე მეტი\n",
    "* გადახედეთ  წინა დავალებებს და დაამატეთ საჭირო ლოგიკა.\n",
    "* არ დაგავიწყდეს შედეგის დაბრუნება  (return)\n",
    "* თუ გაიჭედე და ვერ აკეთებ, დაიხმარე python_lectures ან დამატებითი რესურსები\n",
    "\n",
    "მაგალითი:\n",
    "\n",
    "type_change(77) ➞ \"77\"\n",
    "\n",
    "type_change('77') ➞ 77\n",
    "\n",
    "type_change('0') ➞ 0\n",
    "\n",
    "type_change(123) ➞ \"123\""
   ]
  },
  {
   "cell_type": "code",
   "execution_count": 24,
   "metadata": {},
   "outputs": [
    {
     "name": "stdout",
     "output_type": "stream",
     "text": [
      "77\n"
     ]
    }
   ],
   "source": [
    "\n",
    "#__start__\n",
    "\n",
    "#__end__"
   ]
  }
 ],
 "metadata": {
  "kernelspec": {
   "display_name": "base",
   "language": "python",
   "name": "python3"
  },
  "language_info": {
   "codemirror_mode": {
    "name": "ipython",
    "version": 3
   },
   "file_extension": ".py",
   "mimetype": "text/x-python",
   "name": "python",
   "nbconvert_exporter": "python",
   "pygments_lexer": "ipython3",
   "version": "3.9.13"
  },
  "vscode": {
   "interpreter": {
    "hash": "610a6f344c2137faf927ea819c63f6cee33a2c04455044b28099f39fe9722347"
   }
  }
 },
 "nbformat": 4,
 "nbformat_minor": 2
}
