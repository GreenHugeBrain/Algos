{
 "cells": [
  {
   "attachments": {},
   "cell_type": "markdown",
   "id": "d2860240",
   "metadata": {
    "id": "d2860240"
   },
   "source": [
    "# 1\n",
    "\n",
    "დაწერე ფუნქცია,რომელიც მიიღებს რიცხვს და დააბრუნებს რიცხვს<br> ერთით გაზრდილს ოღონდ არ გამოიყენოთ მათემატიკური ოპერატორები\n",
    "\n",
    "- არ დაგავიწყდეს შედეგის დაბრუნება (return)\n",
    "- თუ კოდი არ ეშვება წაშალეთ ან დააკომენტარეთ\n",
    "\n",
    "მაგალითი:\n",
    "\n",
    "increment(4) ➞ 5\n",
    "\n",
    "increment(-10) ➞ -9\n",
    "\n",
    "increment(9) ➞ 10\n"
   ]
  },
  {
   "cell_type": "code",
   "execution_count": 1,
   "id": "042a3a09",
   "metadata": {
    "id": "042a3a09",
    "outputId": "749e1d07-d8dd-4e38-9bf8-b84744f4399f"
   },
   "outputs": [],
   "source": [
    "# __start__\n",
    "\n",
    "\n",
    "# __end__"
   ]
  },
  {
   "attachments": {},
   "cell_type": "markdown",
   "id": "1f17545e",
   "metadata": {
    "id": "1f17545e"
   },
   "source": [
    "# 2\n",
    "\n",
    "დაწერე ფუნქცია, რომელიც მიიღებს სიას და დააბრუნებს შესაბამის dict \\_ ს\n",
    "\n",
    "- არ დაგავიწყდეს შედეგის დაბრუნება (return)\n",
    "- თუ კოდი არ ეშვება წაშალეთ ან დააკომენტარეთ\n",
    "\n",
    "მაგალითი:\n",
    "\n",
    "to_dict( [1, \"a\", 2, \"b\" ] ) <br>\n",
    "➞ {1: \"a\", 2: \"b\"}\n",
    "<br><br>\n",
    "to_dict( [\"Gela\", \"Nugzarishvili\", \"Tengiz\", \"Murmanishvili\" ] ) <br>\n",
    "➞ { \"Gela\": \"Nugzarishvili\", \"Tengiz\": \"Murmanishvili\" }\n",
    "<br><br>\n",
    "to_dict( [ \"David\", 10, \"Tornike\", 100 ] ) <br>\n",
    "➞ { \"David\":10, \"Tornike\": 100}\n"
   ]
  },
  {
   "cell_type": "code",
   "execution_count": 2,
   "id": "975c445b",
   "metadata": {
    "id": "975c445b"
   },
   "outputs": [],
   "source": [
    "# __start__\n",
    "\n",
    "# __end__"
   ]
  },
  {
   "attachments": {},
   "cell_type": "markdown",
   "id": "b067cf90",
   "metadata": {
    "id": "b067cf90"
   },
   "source": [
    "# 3\n",
    "\n",
    "დაწერე ფუნქცია, რომელიც მიიღებს ორ ინტეჯერების სიას <br>და დააბრუნებს მათ საერთო მონაცემების სტრინგს.\n",
    "სია უნდა იყოს ზრდის მიხედვით\n",
    "\n",
    "- არ გამოიყენოთ ციკლები\n",
    "- არ დაგავიწყდეს შედეგის დაბრუნება (return)\n",
    "- თუ კოდი არ ეშვება წაშალეთ ან დააკომენტარეთ\n",
    "\n",
    "მაგალითი:\n",
    "\n",
    "common_elements( [1, 2, 3, 4 ],[3, 4, 7, 1] ) ➞ \"134\"\n",
    "\n",
    "common_elements( [ 0 ,0, 1 ], [ 1, 1, 1 ] ) ➞ \"1\"\n",
    "\n",
    "common_elements( [ 1, 3, 4, 5, 6, 7 ], [ 1, 2, 4, 5, 6, 7 ] ) ➞ \"14567\"\n"
   ]
  },
  {
   "cell_type": "code",
   "execution_count": 3,
   "id": "394b5811",
   "metadata": {
    "id": "394b5811"
   },
   "outputs": [],
   "source": [
    "# __start__"
   ]
  },
  {
   "attachments": {},
   "cell_type": "markdown",
   "id": "285872e5",
   "metadata": {
    "id": "285872e5"
   },
   "source": [
    "# 4\n",
    "\n",
    "დაწერე ფუნქცია, რომელიც მიიღებს ტექსტს. <br>ტექსტში ყოველი ასო ერთი ინდექსით გადაწეულია მარჯვნივ .<br>თქვენ უნდა დაწეროთ დეკრიპტორი ფუნქცია\n",
    "\n",
    "- შეგიძლიათ გამოიყენოთ index() ფუნქცია\n",
    "- არ დაგავიწყდეს შედეგის დაბრუნება (return)\n",
    "- თუ კოდი არ ეშვება წაშალეთ ან დააკომენტარეთ\n",
    "\n",
    "<br>\n",
    "alph = \"abcdefghijklmnopqrstuvwxyz\"<br>\n",
    "მაგალითი:\n",
    "\n",
    "encrypt(\"ebwje\") ➞\"david\"\n",
    "\n",
    "encrypt(\"fbsui\") ➞ \"earth\"\n",
    "\n",
    "encrypt(\"mjovy\") ➞ \"linux\"\n"
   ]
  },
  {
   "cell_type": "code",
   "execution_count": 5,
   "id": "93b5095e",
   "metadata": {
    "id": "93b5095e"
   },
   "outputs": [
    {
     "data": {
      "text/plain": [
       "'1212'"
      ]
     },
     "execution_count": 5,
     "metadata": {},
     "output_type": "execute_result"
    }
   ],
   "source": [
    "# __start__\n",
    "\n",
    "\n",
    "# __end__"
   ]
  },
  {
   "attachments": {},
   "cell_type": "markdown",
   "id": "3fd69649",
   "metadata": {
    "id": "3fd69649"
   },
   "source": [
    "# 5\n",
    "\n",
    "დაწერე ფუნქცია, რომელიც მიიღებს ცვლად data ს, tuple ტიპის მონაცემთა სტრუქტურას და დაფორმატებს შემდეგნაირაირად:\n",
    "\n",
    "```python\n",
    "  # მონაცემების დაფორმატება\n",
    "data = (1,2,3,4,5)\n",
    "formated_data = (1,5,2,4,3)\n",
    "   #(1,5,2,4,3) - (პირველი,ბოლო, მეორე,ბოლოსწინა,მესამე .....)\n",
    "```\n",
    "\n",
    "შედეგში დაბეჭდეთ ის ინდექსები, რომელზეც ერთნაირი value აქვთ\n",
    "\n",
    "```python\n",
    "  # მნიშვნელობების შემოწმება\n",
    "  result = \"0\"\n",
    "  # (1,2,3,4,5) data\n",
    "  # (1,5,2,4,3) formated\n",
    "  #  \"0,3\" რადგან ერთიანები და ოთხიანები დაემთხვევა\n",
    "```\n",
    "\n",
    "- result უნდა იყოს str რომლის character ები უნდა იყოს მძიმით გამოყოფილი\n",
    "- ყურადღებით წაიკითხეთ მოცემულობა\n",
    "- არ დაგავიწყდეს შედეგის დაბრუნება (return)\n",
    "- თუ კოდი არ ეშვება წაშალეთ ან დააკომენტარეთ\n",
    "\n",
    "მაგალითი:\n",
    "\n",
    "common_position( ( 1, 2, 3, 4, 5 ) ) ➞ \"0,3\"\n",
    "\n",
    "common_position( ( 4, 6, 6, 8, 8, 8) ) ➞ \"0,2,3,5\"\n",
    "\n",
    "common_position( ( 1, \"a\", \"a\", 0, \"a\", 0) ) ➞ \"0,2,4,5\"\n"
   ]
  },
  {
   "cell_type": "code",
   "execution_count": 2,
   "id": "e9f2c4fc",
   "metadata": {
    "id": "e9f2c4fc",
    "outputId": "15cfbdc4-9ef8-4cda-929e-65154c23dc5a"
   },
   "outputs": [
    {
     "name": "stdout",
     "output_type": "stream",
     "text": [
      "[1, 5, 2, 4, 3]\n",
      "[1, 2, 4, 5]\n"
     ]
    },
    {
     "data": {
      "text/plain": [
       "'0'"
      ]
     },
     "execution_count": 2,
     "metadata": {},
     "output_type": "execute_result"
    }
   ],
   "source": [
    "# __start__\n",
    "\n",
    "\n",
    "# __end__"
   ]
  }
 ],
 "metadata": {
  "colab": {
   "collapsed_sections": [],
   "provenance": []
  },
  "kernelspec": {
   "display_name": "Python 3 (ipykernel)",
   "language": "python",
   "name": "python3"
  },
  "language_info": {
   "codemirror_mode": {
    "name": "ipython",
    "version": 3
   },
   "file_extension": ".py",
   "mimetype": "text/x-python",
   "name": "python",
   "nbconvert_exporter": "python",
   "pygments_lexer": "ipython3",
   "version": "3.9.13"
  },
  "vscode": {
   "interpreter": {
    "hash": "610a6f344c2137faf927ea819c63f6cee33a2c04455044b28099f39fe9722347"
   }
  }
 },
 "nbformat": 4,
 "nbformat_minor": 5
}
