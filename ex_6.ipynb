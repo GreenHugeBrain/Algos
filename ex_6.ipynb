{
 "cells": [
  {
   "cell_type": "markdown",
   "metadata": {},
   "source": [
    "<i style=\"color:green\">  შექმენით მგზავრის კლასი:</i>\n",
    "\n",
    "    მახასიათებლები:\n",
    "*    სახელი\n",
    "*    ბარგის წონა\n",
    "*    ასაკი\n",
    "\n",
    "<i style=\"color:green\"> შექმენით მანქანების კლასები:</i>\n",
    "\n",
    "    მახასიათებლები:\n",
    "*    თავისუფალი ადგილების რაოდენობა\n",
    "*    ბარგის წონის ლიმიტი\n",
    "        \n",
    "    მანქანის ფუნქციები:\n",
    "*  მგზავრის დამატება\n",
    "*  ბარგის საშუალო წონის დათვლა\n",
    "\n",
    "\n",
    "<i style=\"color:green\"> შექმენით  ობიექტები</i>\n",
    "\n",
    "* 5 სხვადასხვა მანქანა (მიუხედავად იმისა ყველა მგზავრი დაეტევა თუ არა)\n",
    "* 20 მგზავრი (ზოგიერთი განსხვავებული მონაცემებით)\n",
    "\n",
    "\n",
    "<br>\n",
    "<li style=\"color:green\">  დაწერეთ ფუნქცია, რომელიც მიიღებს მგზავრების ობიექტების სიას და დაამატებს </li><br>\n",
    "<li style=\"color:green\"> დაიანგარიშეთ თითოეული მანქანისათვის საშუალო ბარგის წონა და მასში მყოფი მგზავრების საშუალო ასაკი</li><br>\n",
    "<li style=\"color:green\">  წარმოადგინეთ მანქანაში დარჩენილი ადგილების საერთო რაოდენობა და  მანქანის გარეშე დარჩენილი მგზავრების სახელები</li>\n",
    "\n",
    "\n",
    "\n",
    "    \n",
    "\n",
    "\n",
    "\n",
    "\n"
   ]
  }
 ],
 "metadata": {
  "kernelspec": {
   "display_name": "Python 3 (ipykernel)",
   "language": "python",
   "name": "python3"
  },
  "language_info": {
   "codemirror_mode": {
    "name": "ipython",
    "version": 3
   },
   "file_extension": ".py",
   "mimetype": "text/x-python",
   "name": "python",
   "nbconvert_exporter": "python",
   "pygments_lexer": "ipython3",
   "version": "3.9.13 (main, Aug 25 2022, 23:51:50) [MSC v.1916 64 bit (AMD64)]"
  },
  "vscode": {
   "interpreter": {
    "hash": "610a6f344c2137faf927ea819c63f6cee33a2c04455044b28099f39fe9722347"
   }
  }
 },
 "nbformat": 4,
 "nbformat_minor": 2
}
