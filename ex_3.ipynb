{
 "cells": [
  {
   "attachments": {},
   "cell_type": "markdown",
   "id": "b14f4d6a",
   "metadata": {},
   "source": [
    "# 1\n",
    "\n",
    "დაწერეთ ფუნქცია, რომელიც დააბრუნებს სიიდან ყველაზე დიდ რიცხვს\n",
    "\n",
    "- არ გამოიყენოთ max() ფუნქცია\n",
    "- არ დაგავიწყდეს შედეგის დაბრუნება (return)\n",
    "- თუ გაიჭედე და ვერ აკეთებ, დაიხმარე ლექციები ან დამატებითი რესურსები\n",
    "\n",
    "მაგალითი:\n",
    "\n",
    "find_highest([-1, 3, 5, 6, 99, 12, 2])->99\n",
    "\n",
    "find_highest([0, 12, 4, 87])->87\n",
    "\n",
    "find_highest([8])->8\n"
   ]
  },
  {
   "cell_type": "code",
   "execution_count": 5,
   "id": "aded9d41",
   "metadata": {},
   "outputs": [
    {
     "data": {
      "text/plain": [
       "87"
      ]
     },
     "execution_count": 5,
     "metadata": {},
     "output_type": "execute_result"
    }
   ],
   "source": [
    "# __start__\n",
    "\n",
    "\n",
    "# __end__"
   ]
  },
  {
   "attachments": {},
   "cell_type": "markdown",
   "id": "d34912bf",
   "metadata": {},
   "source": [
    "# 2\n",
    "\n",
    "დაწერეთ ფუნქცია, რომელიც დააბრუნებს სიაში ნაპოვნ პირველ სტრინგს\n",
    "\n",
    "- არ დაგავიწყდეს შედეგის დაბრუნება (return)\n",
    "- თუ გაიჭედე და ვერ აკეთებ, დაიხმარე ლექციები ან დამატებითი რესურსები\n",
    "\n",
    "მაგალითი:\n",
    "\n",
    "find_string([-1, 3, \"Good\", 6, 99, 12, 2])->\"Good\"\n",
    "\n",
    "find_string([0, 12, 4,\"Yes\", 87])->\"Yes\"\n",
    "\n",
    "find_string([0, 12, 4,\"Iliauni\", 87])->\"Iliauni\"\n"
   ]
  },
  {
   "cell_type": "code",
   "execution_count": 3,
   "id": "052ecd56",
   "metadata": {},
   "outputs": [
    {
     "data": {
      "text/plain": [
       "'Iliauni'"
      ]
     },
     "execution_count": 3,
     "metadata": {},
     "output_type": "execute_result"
    }
   ],
   "source": [
    "# __start__\n",
    "\n",
    "# __end__"
   ]
  },
  {
   "attachments": {},
   "cell_type": "markdown",
   "id": "67743ce6",
   "metadata": {},
   "source": [
    "# 3\n",
    "\n",
    "დაწერეთ ფუნქცია, რომელიც დააბრუნებს სიას ან სიებს რომელშიც 1 იანია<br> სხვა შემთხვევაში დააბრუნოს 0\n",
    "\n",
    "- არ დაგავიწყდეს შედეგის დაბრუნება (return)\n",
    "- თუ გაიჭედე და ვერ აკეთებ, დაიხმარე ლექციები ან დამატებითი რესურსები\n",
    "\n",
    "მაგალითი:\n",
    "\n",
    "find_one([0,1])->[[0, 1]]\n",
    "\n",
    "find_one([0, 12, 4,\"Yes\", 87],[0,0,3])->[0, 0]\n",
    "\n",
    "find_one([1, 1],[3,4,5],[4,1])->[[1, 1], 0, [4, 1]]\n"
   ]
  },
  {
   "cell_type": "code",
   "execution_count": 18,
   "id": "a9287277",
   "metadata": {},
   "outputs": [],
   "source": [
    "# __start__\n",
    "\n",
    "\n",
    "# __end__"
   ]
  },
  {
   "attachments": {},
   "cell_type": "markdown",
   "id": "3e8e3c6e",
   "metadata": {},
   "source": [
    "# 4\n",
    "\n",
    "დაწერეთ ფუნქცია, რომელიც დაითვლის 10 დან 55 მდე რიცხვების რაოდენობას სიაში\n",
    "\n",
    "- არ დაგავიწყდეს შედეგის დაბრუნება (return)\n",
    "- თუ გაიჭედე და ვერ აკეთებ, დაიხმარე ლექციები ან დამატებითი რესურსები\n",
    "\n",
    "მაგალითი:\n",
    "\n",
    "count_range([11,12,13])->3\n",
    "\n",
    "count_range([0, 12, 4, 87])->1\n",
    "\n",
    "count_range([1, 1])->0\n"
   ]
  },
  {
   "cell_type": "code",
   "execution_count": 28,
   "id": "1004890f",
   "metadata": {},
   "outputs": [
    {
     "data": {
      "text/plain": [
       "3"
      ]
     },
     "execution_count": 28,
     "metadata": {},
     "output_type": "execute_result"
    }
   ],
   "source": [
    "# __start__\n",
    "\n",
    "# __end__"
   ]
  },
  {
   "attachments": {},
   "cell_type": "markdown",
   "id": "5ff4d617",
   "metadata": {},
   "source": [
    "# 5\n",
    "\n",
    "დაწერეთ ფუნქცია, რომელიც სტრინგიდან ამოიღებს : დან : მდე ტექსტს\n",
    "\n",
    "- არ დაგავიწყდეს შედეგის დაბრუნება (return)\n",
    "- თუ გაიჭედე და ვერ აკეთებ, დაიხმარე ლექციები ან დამატებითი რესურსები\n",
    "\n",
    "მაგალითი:\n",
    "\n",
    "trim_string(\"aasdkmsalkmd:123:0asdasdj\")->\"123\"\n",
    "\n",
    "trim_string(\"122334:12:\")->\"12\"\n",
    "\n",
    "trim_string(\":asdasdasd:asd3245\")->\"asdasdasd\"\n"
   ]
  },
  {
   "cell_type": "code",
   "execution_count": 57,
   "id": "f2d59b87",
   "metadata": {},
   "outputs": [
    {
     "data": {
      "text/plain": [
       "'123'"
      ]
     },
     "execution_count": 57,
     "metadata": {},
     "output_type": "execute_result"
    }
   ],
   "source": [
    "# __start__\n",
    "\n",
    "\n",
    "# __end__"
   ]
  }
 ],
 "metadata": {
  "kernelspec": {
   "display_name": "base",
   "language": "python",
   "name": "python3"
  },
  "language_info": {
   "codemirror_mode": {
    "name": "ipython",
    "version": 3
   },
   "file_extension": ".py",
   "mimetype": "text/x-python",
   "name": "python",
   "nbconvert_exporter": "python",
   "pygments_lexer": "ipython3",
   "version": "3.9.13"
  },
  "vscode": {
   "interpreter": {
    "hash": "610a6f344c2137faf927ea819c63f6cee33a2c04455044b28099f39fe9722347"
   }
  }
 },
 "nbformat": 4,
 "nbformat_minor": 5
}
