{
 "cells": [
  {
   "cell_type": "markdown",
   "id": "3f9fde9d",
   "metadata": {},
   "source": [
    "# 1\n",
    "\n",
    "დაწერე ფუნქცია,რომელიც გვიჩვენებს რამდენად მდგრადია რიცხვი\n",
    "\n",
    "* არ დაგავიწყდეს შედეგის დაბრუნება  (return)\n",
    "* თუ კოდი არ ეშვება წაშალეთ ან დააკომენტარეთ \n",
    "\n",
    "\n",
    "\n",
    "\n",
    "\n",
    "მაგალითი:\n",
    "\n",
    "persistence(39) ➞ 3    3*9 = 27, 2*7 = 14, 1*4 = 4,  \n",
    "                                          \n",
    "persistence(999) ➞ 4   9*9*9 = 729,   7*2*9 = 126, 1*2*6 = 12,  1*2 = 2\n",
    "\n",
    "persistence(4) ➞ 0     ერთნიშნაა\n"
   ]
  },
  {
   "cell_type": "code",
   "execution_count": 5,
   "id": "e16bd830",
   "metadata": {},
   "outputs": [
    {
     "name": "stdout",
     "output_type": "stream",
     "text": [
      "3\n"
     ]
    }
   ],
   "source": [
    "\n",
    "#__start__\n",
    "\n",
    "\n",
    "\n",
    "\n",
    "#__end__"
   ]
  },
  {
   "cell_type": "markdown",
   "id": "dfbf4169",
   "metadata": {},
   "source": [
    "# 2\n",
    "დაწერეთ ფუნქციები:\n",
    "    \n",
    "    is_one რომელიც ამოწმებს შეყვანილი რიცხვი ერთია თუ არა \n",
    "\n",
    "    is_none რომელიც ამოწმებს შეყვანილი None არის თუ არა.ასევე თუ არაფერს შევიყვანთ ფუნქციაში მაშინაც True უნდა დააბრუნოს\n",
    "\n",
    "\n",
    "დაწერე ფუნქცია, რომელიც ამოწმებს is_none is_one ფუნქციის მნიშვნელობების სისწორეს:\n",
    "    \n",
    "    სტრუქტურა   -     test_code(function_name, parameter, correct_result)\n",
    "\n",
    "* არ დაგავიწყდეს შედეგის დაბრუნება  (return)\n",
    "* თუ კოდი არ ეშვება წაშალეთ ან დააკომენტარეთ \n",
    "\n",
    "\n",
    "\n",
    "\n",
    "\n",
    "მაგალითი:\n",
    "\n",
    "\n",
    "\n",
    "test_code(is_one, 1, True) ➞ True\n",
    "\n",
    "test_code(is_none, 6 , False) ➞ True\n",
    "\n",
    "test_code(is_none, correct_result = True) ➞ True\n",
    "\n",
    "\n"
   ]
  },
  {
   "cell_type": "code",
   "execution_count": 34,
   "id": "f598518a",
   "metadata": {},
   "outputs": [
    {
     "data": {
      "text/plain": [
       "True"
      ]
     },
     "execution_count": 34,
     "metadata": {},
     "output_type": "execute_result"
    }
   ],
   "source": []
  }
 ],
 "metadata": {
  "kernelspec": {
   "display_name": "base",
   "language": "python",
   "name": "python3"
  },
  "language_info": {
   "codemirror_mode": {
    "name": "ipython",
    "version": 3
   },
   "file_extension": ".py",
   "mimetype": "text/x-python",
   "name": "python",
   "nbconvert_exporter": "python",
   "pygments_lexer": "ipython3",
   "version": "3.9.13 (main, Aug 25 2022, 23:51:50) [MSC v.1916 64 bit (AMD64)]"
  },
  "vscode": {
   "interpreter": {
    "hash": "610a6f344c2137faf927ea819c63f6cee33a2c04455044b28099f39fe9722347"
   }
  }
 },
 "nbformat": 4,
 "nbformat_minor": 5
}
