{
 "cells": [
  {
   "cell_type": "markdown",
   "metadata": {},
   "source": [
    "## შექმენი შემდეგი სტრუქტურები  მემკვიდრეობის მიხედვით\n",
    "\n",
    "თითოეული uppercase კლასს ჰქონდეს შესაბამისი lowercase ფუნქცია, რომელსაც ექნება return \"კლასის სახელი\"\n",
    "```python\n",
    "class T:\n",
    "    def t(self):\n",
    "        return \"class T\"\n",
    "```\n",
    "\n"
   ]
  },
  {
   "cell_type": "markdown",
   "metadata": {},
   "source": [
    "<img src=\"https://drive.google.com/uc?export=view&id=1n2FuayX2D6QcbsBlQkOvJFYqcaohCCdk\">"
   ]
  },
  {
   "cell_type": "code",
   "execution_count": 3,
   "metadata": {},
   "outputs": [],
   "source": [
    "#__start__\n",
    "\n",
    "#__end__"
   ]
  },
  {
   "cell_type": "markdown",
   "metadata": {},
   "source": [
    "<img src=\"https://drive.google.com/uc?export=view&id=156J2zNJ_YxG7nzXdWtIEFUq01OGqZz5Y\">"
   ]
  },
  {
   "cell_type": "code",
   "execution_count": 4,
   "metadata": {},
   "outputs": [],
   "source": [
    "#__start__\n",
    "\n",
    "#__end__"
   ]
  },
  {
   "cell_type": "markdown",
   "metadata": {},
   "source": [
    "<img src=\"https://drive.google.com/uc?export=view&id=11SvUXRgdTwiMWaEEWURAluzBUzgSeF8x\">"
   ]
  },
  {
   "cell_type": "code",
   "execution_count": 5,
   "metadata": {},
   "outputs": [],
   "source": [
    "#__start__\n",
    "\n",
    "#__end__"
   ]
  }
 ],
 "metadata": {
  "kernelspec": {
   "display_name": "Python 3 (ipykernel)",
   "language": "python",
   "name": "python3"
  },
  "language_info": {
   "codemirror_mode": {
    "name": "ipython",
    "version": 3
   },
   "file_extension": ".py",
   "mimetype": "text/x-python",
   "name": "python",
   "nbconvert_exporter": "python",
   "pygments_lexer": "ipython3",
   "version": "3.9.13"
  },
  "vscode": {
   "interpreter": {
    "hash": "1682e5d06a6d97c1b1cf6bb4ae6cf16223e994936ddb1d53664597d7d46101fa"
   }
  }
 },
 "nbformat": 4,
 "nbformat_minor": 2
}
