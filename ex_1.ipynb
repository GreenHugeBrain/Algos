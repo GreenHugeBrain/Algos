{
 "cells": [
  {
   "attachments": {},
   "cell_type": "markdown",
   "metadata": {
    "id": "KYWP0dLFjV6W"
   },
   "source": [
    "# 1\n",
    "\n",
    "დაწერე ფუნქცია რომელის ორ რიცხვს იღებს, როგორც არგუმენტს და აბრუნებს მათ ჯამს\n",
    "\n",
    "- არ დაგავიწყდეს შედეგის დაბრუნება (return)\n",
    "- თუ გაიჭედე და ვერ აკეთებ, დაიხმარე python_lectures ან დამატებითი რესურსები\n",
    "\n",
    "მაგალითი:\n",
    "\n",
    "addition(3, 2) ➞ 5\n",
    "\n",
    "addition(-3, -6) ➞ -9\n",
    "\n",
    "addition(7, 3) ➞ 10\n"
   ]
  },
  {
   "cell_type": "code",
   "execution_count": 2,
   "metadata": {
    "colab": {
     "base_uri": "https://localhost:8080/"
    },
    "executionInfo": {
     "elapsed": 28,
     "status": "ok",
     "timestamp": 1664174933847,
     "user": {
      "displayName": "David David",
      "userId": "13258755569669539822"
     },
     "user_tz": -240
    },
    "id": "CPrHngyCjV6f",
    "outputId": "ce8dbc32-2a9c-491d-a29a-f6a5c0eef2df"
   },
   "outputs": [
    {
     "data": {
      "text/plain": [
       "5"
      ]
     },
     "execution_count": 2,
     "metadata": {},
     "output_type": "execute_result"
    }
   ],
   "source": [
    "\n",
    "# __start__\n",
    "\n",
    "\n",
    "# __end__"
   ]
  },
  {
   "attachments": {},
   "cell_type": "markdown",
   "metadata": {
    "id": "ow8NksQ3jV6k"
   },
   "source": [
    "# 2\n",
    "\n",
    "დაწერე ფუნქცია რომელიც იღებს რიცხვს, როგორც არგუმენტს, ზრდის 1_ით და აბრუნებს შედეგს\n",
    "\n",
    "- არ დაგავიწყდეს შედეგის დაბრუნება (return)\n",
    "- თუ გაიჭედე და ვერ აკეთებ, დაიხმარე python_lectures ან დამატებითი რესურსები\n",
    "\n",
    "მაგალითი:\n",
    "\n",
    "addition(0) ➞ 1\n",
    "\n",
    "addition(9) ➞ 10\n",
    "\n",
    "addition(-3) ➞ -2\n"
   ]
  },
  {
   "cell_type": "code",
   "execution_count": null,
   "metadata": {
    "id": "oWjulTntjV6n",
    "outputId": "5f9b05fa-3c17-4869-f5c1-3dd6652aca98"
   },
   "outputs": [
    {
     "name": "stdout",
     "output_type": "stream",
     "text": [
      "None\n"
     ]
    }
   ],
   "source": [
    "# __start__\n",
    "\n",
    "\n",
    "# __end__"
   ]
  },
  {
   "attachments": {},
   "cell_type": "markdown",
   "metadata": {
    "id": "360LTFpVjV6q"
   },
   "source": [
    "# 3\n",
    "\n",
    "დაწერე ფუნქცია რომელიც იღებს რიცხვს და გადაყავს წამებში\n",
    "\n",
    "- არ დაგავიწყდეს შედეგის დაბრუნება (return)\n",
    "- თუ გაიჭედე და ვერ აკეთებ, დაიხმარე python_lectures ან დამატებითი რესურსები\n",
    "\n",
    "მაგალითი:\n",
    "\n",
    "convert(5) ➞ 300\n",
    "\n",
    "convert(3) ➞ 180\n",
    "\n",
    "convert(2) ➞ 120\n"
   ]
  },
  {
   "cell_type": "code",
   "execution_count": null,
   "metadata": {
    "id": "hwYnJPj6jV6r",
    "outputId": "a2915cba-70f1-4ddb-b6f2-f5bbcbbcacd1"
   },
   "outputs": [
    {
     "name": "stdout",
     "output_type": "stream",
     "text": [
      "None\n"
     ]
    }
   ],
   "source": [
    "# __start__\n",
    "\n",
    "\n",
    "# __end__"
   ]
  },
  {
   "attachments": {},
   "cell_type": "markdown",
   "metadata": {
    "id": "5kzR0l7qjV6t"
   },
   "source": [
    "# 4\n",
    "\n",
    "გამოასწორე კოდი (სინტაქსური ხარვეზი)\n",
    "შეხედე მაგალითს, მიხვდი ფუნქცია რას აკეთებს და დაწერე შესაბამისი კოდი\n",
    "\n",
    "- ბევრი არ იფიქრო ამოცანაზე, არ უნდა იყოს რთული\n",
    "- არ დაგავიწყდეს შედეგის დაბრუნება (return)\n",
    "- თუ გაიჭედე და ვერ აკეთებ, დაიხმარე python_lectures ან დამატებითი რესურსები\n",
    "\n",
    "მაგალითი:\n",
    "\n",
    "cubes(3) ➞ 27\n",
    "\n",
    "cubes(5) ➞ 125\n",
    "\n",
    "cubes(10) ➞ 1000\n"
   ]
  },
  {
   "cell_type": "code",
   "execution_count": null,
   "metadata": {
    "id": "qIv5JAUojV6v"
   },
   "outputs": [],
   "source": [
    "# __start__\n",
    "\n",
    "\n",
    "# __end__"
   ]
  },
  {
   "attachments": {},
   "cell_type": "markdown",
   "metadata": {
    "id": "Yw3ULytGjV6w"
   },
   "source": [
    "# 5\n",
    "\n",
    "    იპოვნე ფასდაკლება\n",
    "\n",
    "შექმენი ფუნქცია, რომელიც იღებს არგუმენტს ფასი(price) და ფასდაკლების (discount) პროცენტს, როგორც ინტეჯერს და აბრუნებს სრულ ფას ფასდაკლების შემდგომ.\n",
    "\n",
    "- პასუხი რომელსაც დააბრუნებს უნდა იყოს დამრგვალებული მეათედებამდე (40.5)\n",
    "- არ დაგავიწყდეს შედეგის დაბრუნება (return)\n",
    "- თუ გაიჭედე და ვერ აკეთებ, დაიხმარე python_lectures ან დამატებითი რესურსები\n",
    "\n",
    "მაგალითი:\n",
    "\n",
    "dis(1500, 50) ➞ 750\n",
    "\n",
    "dis(89, 20) ➞ 71.2\n",
    "\n",
    "dis(100, 75) ➞ 25\n"
   ]
  },
  {
   "cell_type": "code",
   "execution_count": null,
   "metadata": {
    "id": "IwcabEAmjV6y",
    "outputId": "01d86021-5189-4291-b578-d08db57665a7"
   },
   "outputs": [
    {
     "data": {
      "text/plain": [
       "71.2"
      ]
     },
     "execution_count": 5,
     "metadata": {},
     "output_type": "execute_result"
    }
   ],
   "source": [
    "# __start__\n",
    "\n",
    "\n",
    "# __end__"
   ]
  },
  {
   "attachments": {},
   "cell_type": "markdown",
   "metadata": {
    "id": "jyyyy4sMjV60"
   },
   "source": [
    "# 6\n",
    "\n",
    "შექმენით ფუნქცია, რომელიც არგუმენტად იღებს ასაკს წლებში და აბრუნებს ასაკს დღეებში\n",
    "\n",
    "- გამოიყენე 365 დღე, როგორც წელიწადში დღეების რაოდენობა\n",
    "- მხოლოდ დადებითი რიცხვები იქნება არგუმენტებად და არ გაართულო\n",
    "\n",
    "მაგალითი:\n",
    "\n",
    "calc_age(65) ➞ 23725\n",
    "\n",
    "calc_age(0) ➞ 0\n",
    "\n",
    "calc_age(20) ➞ 7300\n"
   ]
  },
  {
   "cell_type": "code",
   "execution_count": 6,
   "metadata": {
    "id": "9wSGyWNPjV61"
   },
   "outputs": [
    {
     "name": "stdout",
     "output_type": "stream",
     "text": [
      "23725\n"
     ]
    }
   ],
   "source": [
    "# __start__\n",
    "\n",
    "\n",
    "# __end__"
   ]
  },
  {
   "attachments": {},
   "cell_type": "markdown",
   "metadata": {
    "id": "ts___D_DjV62"
   },
   "source": [
    "# 7\n",
    "\n",
    "შექმენით ფუნქცია,რომელიც მიიღებს სტრინგს და დააბრუნებს, როგორც ინტეჯერს\n",
    "\n",
    "- ყველა რიცხვი იქნება მთელი და დადებითი\n",
    "\n",
    "მაგალითი:\n",
    "\n",
    "string_int(\"6\") ➞ 6\n",
    "\n",
    "string_int(\"1000\") ➞ 1000\n",
    "\n",
    "string_int(\"12\") ➞ 12\n"
   ]
  },
  {
   "cell_type": "code",
   "execution_count": 7,
   "metadata": {
    "id": "o_VJgpGljV62"
   },
   "outputs": [
    {
     "name": "stdout",
     "output_type": "stream",
     "text": [
      "6\n"
     ]
    }
   ],
   "source": [
    "# __start__\n",
    "\n",
    "\n",
    "# __end__"
   ]
  },
  {
   "attachments": {},
   "cell_type": "markdown",
   "metadata": {
    "id": "SF8lV49ljV63"
   },
   "source": [
    "# 8\n",
    "\n",
    "შექმენით ფუნქცია რომელიც იღებს სიგრძეს (length)და სიგანეს (width) და ითვლის მართკუთხედის პერიმეტრს\n",
    "\n",
    "- არ დაგავიწყდეს შედეგის დაბრუნება (return)\n",
    "- თუ გაიჭედე და ვერ აკეთებ, დაიხმარე python_lectures ან დამატებითი რესურსები\n",
    "\n",
    "მაგალითი:\n",
    "\n",
    "find_perimeter(6, 7) ➞ 26\n",
    "\n",
    "find_perimeter(20, 10) ➞ 60\n",
    "\n",
    "find_perimeter(2, 9) ➞ 22\n"
   ]
  },
  {
   "cell_type": "code",
   "execution_count": 8,
   "metadata": {
    "id": "sZZoQUZFjV63"
   },
   "outputs": [
    {
     "name": "stdout",
     "output_type": "stream",
     "text": [
      "26\n"
     ]
    }
   ],
   "source": [
    "# __start__\n",
    "\n",
    "\n",
    "# __end__"
   ]
  },
  {
   "attachments": {},
   "cell_type": "markdown",
   "metadata": {
    "id": "qq5vULDTjV64"
   },
   "source": [
    "# 9\n",
    "\n",
    "Ana-მ დაწერა ფუნქცია, რომელიც ესალმება მომხმარებლებებს. როგორც გაირკვა ის შეყვარებულია Murtaz-ზე და ის განსხვავებულად ესალმება მას. მან დაამატე სპეციალურად მისთვის კოდში ფუნქცია, მაგრამ შეცდომა დაუშვა.\n",
    "\n",
    "- წაიკითხე ყურადღებით მოცემულობა\n",
    "- არ იფიქრო ბევრი, არ უნდა იყოს რთულად დაწერილი\n",
    "\n",
    "მაგალითი:\n",
    "\n",
    "greeting(\"Nika\") ➞ \"Hello, Nika!\"\n",
    "\n",
    "greeting(\"Lela\") ➞ \"Hello, Lela!\"\n",
    "\n",
    "greeting(\"Murtaz\") ➞ \"Hello, my Love!\"\n"
   ]
  },
  {
   "cell_type": "code",
   "execution_count": 10,
   "metadata": {
    "id": "fE193WXCjV65"
   },
   "outputs": [
    {
     "data": {
      "text/plain": [
       "'Hello, my Love!'"
      ]
     },
     "execution_count": 10,
     "metadata": {},
     "output_type": "execute_result"
    }
   ],
   "source": [
    "# __start__\n",
    "\n",
    "\n",
    "# __end__"
   ]
  },
  {
   "attachments": {},
   "cell_type": "markdown",
   "metadata": {
    "id": "gsJYQGKkjV65"
   },
   "source": [
    "# 10\n",
    "\n",
    "    ენაბლუ ფუნქცია\n",
    "\n",
    "დაწერეთ ფუნქცია, რომელიც აბლუებს სიტყვას ისე თითქოს კითხვა უჭირს ნაწერის. ასოები განმეორებულია ორჯერ და გამოყოფილია წერტილებით\n",
    "\"...\" და სფეისით \" \" მიყოლებით. ბოლოში კი კითხვის ნიშანი აქვს სიტყვას \"?\"\n",
    "\n",
    "- ყველა შეყვანილი ტექსტი არის პატარა ასოებით (lower case) და სულ მცირე ორი სიმბოლოსგან შედგება\n",
    "\n",
    "მაგალითი:\n",
    "\n",
    "stutter(\"incredible\") ➞ \"in... in... incredible?\"\n",
    "\n",
    "stutter(\"enthusiastic\") ➞ \"en... en... enthusiastic?\"\n",
    "\n",
    "stutter(\"outstanding\") ➞ \"ou... ou... outstanding?\"\n"
   ]
  },
  {
   "cell_type": "code",
   "execution_count": 12,
   "metadata": {
    "id": "opNKJ4jOjV66",
    "outputId": "e2bdea5c-1fa9-4048-a8b8-6a54ec39accb"
   },
   "outputs": [
    {
     "name": "stdout",
     "output_type": "stream",
     "text": [
      "in... in... incredible?\n"
     ]
    }
   ],
   "source": [
    "\n",
    "# __start__\n",
    "\n",
    "\n",
    "# __end__"
   ]
  }
 ],
 "metadata": {
  "colab": {
   "provenance": []
  },
  "kernelspec": {
   "display_name": "Python 3 (ipykernel)",
   "language": "python",
   "name": "python3"
  },
  "language_info": {
   "codemirror_mode": {
    "name": "ipython",
    "version": 3
   },
   "file_extension": ".py",
   "mimetype": "text/x-python",
   "name": "python",
   "nbconvert_exporter": "python",
   "pygments_lexer": "ipython3",
   "version": "3.10.7"
  },
  "vscode": {
   "interpreter": {
    "hash": "beedbe2faf2f7048d727558d0bc3221e7eba2a0b921cac4d4771b2feb8f74b30"
   }
  }
 },
 "nbformat": 4,
 "nbformat_minor": 1
}
