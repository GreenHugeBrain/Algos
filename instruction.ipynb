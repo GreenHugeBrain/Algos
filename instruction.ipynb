{
 "cells": [
  {
   "cell_type": "markdown",
   "metadata": {},
   "source": [
    "\n",
    " <h1 style=\"color:green; text-align:center; \">ინსტრუქცია </h1>\n",
    "<p style=\"color:red;\">\n",
    "!!! ფუნქციებს ზუსტად იგივე სახელი დაარქვით რაც მოცემულობაშია <br><br>\n",
    "!!! კოდი ჩაწერეთ აუცილებლად start end კომენტარებს შორის <br><br>\n",
    "!!! ფუნქციის შიდა კოდის დასრულების შემდგომ აუცილებლად წაშალეთ გამოძახება <br><br> დააკომენტარეთ  ასე გათიშეთ  -- > # print(function(element_or_variable))\n",
    "<p>\n",
    "<div style=\"width:800px; height:2px; margin-top:30px; margin-bottom:30px;background:grey; \"></div>\n",
    "\n",
    "\n",
    "**ფუნქციის დაწერის ფორმატი:**\n",
    "\n",
    "```python\n",
    "def function_name(argument):\n",
    "\t\n",
    "\t... აქ იწერება შიდა პროცესის კოდი ...\n",
    "\n",
    "\treturn result\n",
    "\n",
    "# ფუნქციის გამოძახება\n",
    "print(function(element_or_variable))\n",
    "```\n",
    "**მაგალითი:**\n"
   ]
  },
  {
   "cell_type": "code",
   "execution_count": 3,
   "metadata": {},
   "outputs": [
    {
     "name": "stdout",
     "output_type": "stream",
     "text": [
      "hello David\n"
     ]
    }
   ],
   "source": [
    "# მისალმების ფუნცია\n",
    "def hello(name):\n",
    "\n",
    "    return \"hello\" + name\n",
    "\n",
    "print(hello(\"David\"))"
   ]
  },
  {
   "cell_type": "markdown",
   "metadata": {},
   "source": [
    "**გთხოვთ კოდი დაწერეთ start end ბლოკებს შორის და არ დაგავიწყდეთ ფუნციის გამოძახების მოშლა**\n",
    "```\n",
    "#__start__\n",
    "\n",
    "... აქ იწერება ფუნქცია ...\n",
    "\n",
    "#__end__\n",
    "```\n",
    "**საბოლოოდ ასე უნდა გამოიყურებოდეს**"
   ]
  },
  {
   "cell_type": "code",
   "execution_count": null,
   "metadata": {},
   "outputs": [],
   "source": [
    "#__start__\n",
    "\n",
    "# მისალმების ფუნცია\n",
    "def hello(name):\n",
    "\n",
    "    return \"hello\" + name\n",
    "\n",
    "#__end__"
   ]
  }
 ],
 "metadata": {
  "kernelspec": {
   "display_name": "Python 3 (ipykernel)",
   "language": "python",
   "name": "python3"
  },
  "language_info": {
   "codemirror_mode": {
    "name": "ipython",
    "version": 3
   },
   "file_extension": ".py",
   "mimetype": "text/x-python",
   "name": "python",
   "nbconvert_exporter": "python",
   "pygments_lexer": "ipython3",
   "version": "3.10.5"
  },
  "vscode": {
   "interpreter": {
    "hash": "beedbe2faf2f7048d727558d0bc3221e7eba2a0b921cac4d4771b2feb8f74b30"
   }
  }
 },
 "nbformat": 4,
 "nbformat_minor": 2
}
